{
 "cells": [
  {
   "cell_type": "code",
   "execution_count": 1,
   "metadata": {},
   "outputs": [],
   "source": [
    "import numpy as np\n",
    "import matplotlib.pyplot as plt\n",
    "from matplotlib.widgets import Slider \n"
   ]
  },
  {
   "cell_type": "code",
   "execution_count": 3,
   "metadata": {},
   "outputs": [
    {
     "name": "stdout",
     "output_type": "stream",
     "text": [
      "Using matplotlib backend: Qt5Agg\n"
     ]
    },
    {
     "name": "stderr",
     "output_type": "stream",
     "text": [
      "Traceback (most recent call last):\n",
      "  File \"/home/dylan/miniconda3/envs/mlp/lib/python3.6/site-packages/matplotlib/cbook/__init__.py\", line 215, in process\n",
      "    func(*args, **kwargs)\n",
      "  File \"/home/dylan/miniconda3/envs/mlp/lib/python3.6/site-packages/matplotlib/widgets.py\", line 417, in _update\n",
      "    self.set_val(val)\n",
      "  File \"/home/dylan/miniconda3/envs/mlp/lib/python3.6/site-packages/matplotlib/widgets.py\", line 438, in set_val\n",
      "    func(val)\n",
      "  File \"<ipython-input-3-e7ade84dd9e5>\", line 34, in update\n",
      "    line.set_ydata(prob_func(w_guard, weight_func(line.get_xdata(), w_obs, w_dist, dist)))\n",
      "  File \"<ipython-input-3-e7ade84dd9e5>\", line 21, in <lambda>\n",
      "    weight_func = lambda p_threat, w_obs, w_dist, dist : w_obs*p_threat*(1+w_dist/dist)\n",
      "ZeroDivisionError: float division by zero\n"
     ]
    }
   ],
   "source": [
    "%matplotlib\n",
    "fig, ax = plt.subplots()\n",
    "w_obs_ax = plt.axes([0.25, 0.2, 0.65, 0.03])\n",
    "w_dist_ax = plt.axes([0.25, 0.15, 0.65, 0.03])\n",
    "dist_ax = plt.axes([0.25, 0.1, 0.65, 0.03])\n",
    "w_guard_ax = plt.axes([0.25, 0.05, 0.65, 0.03])\n",
    "\n",
    "w_obs_sli = Slider(w_obs_ax, 'w_obs', 0.0, 500.0, valinit=100, valstep=1)\n",
    "w_guard_sli = Slider(w_guard_ax, 'w_guard', 0.0, 500.0, valinit=100, valstep=1)\n",
    "w_dist_sli = Slider(w_dist_ax, 'w_dist', 0.0, 1000.0, valinit=600)\n",
    "dist_sli = Slider(dist_ax, 'dist', 0.0, 600.0, valinit=100)\n",
    "\n",
    "\n",
    "w_obs = 100\n",
    "w_guard = 100\n",
    "w_dist = 600\n",
    "dist = 100\n",
    "\n",
    "p_threats= np.linspace(0, 1, 100)\n",
    "\n",
    "weight_func = lambda p_threat, w_obs, w_dist, dist : w_obs*p_threat*(1+w_dist/dist)\n",
    "prob_func = lambda w_guard, weight : weight/(w_guard+weight)\n",
    "\n",
    "line, = ax.plot(p_threats, prob_func(w_guard, weight_func(p_threats, w_obs, w_dist, dist)))\n",
    "ax.set_xlabel('Threat Probability')\n",
    "ax.set_ylabel('Observation Motion Goal Weight')\n",
    "ax.set_xlim([0.0, 1.0])\n",
    "ax.set_ylim([0.0, 1.0])\n",
    "def update(val):\n",
    "    w_obs = w_obs_sli.val\n",
    "    w_guard = w_guard_sli.val\n",
    "    w_dist = w_dist_sli.val\n",
    "    dist = dist_sli.val\n",
    "    line.set_ydata(prob_func(w_guard, weight_func(line.get_xdata(), w_obs, w_dist, dist)))\n",
    "    fig.canvas.draw_idle()\n",
    "\n",
    "w_guard_sli.on_changed(update)\n",
    "w_obs_sli.on_changed(update)\n",
    "w_dist_sli.on_changed(update)\n",
    "dist_sli.on_changed(update)\n",
    "plt.show()\n"
   ]
  },
  {
   "cell_type": "code",
   "execution_count": 59,
   "metadata": {},
   "outputs": [
    {
     "name": "stdout",
     "output_type": "stream",
     "text": [
      "Using matplotlib backend: Qt5Agg\n"
     ]
    }
   ],
   "source": [
    "%matplotlib\n",
    "fig, ax = plt.subplots()\n",
    "lr_ax = plt.axes([0.25, 0.9, 0.65, 0.03])\n",
    "dist_ax = plt.axes([0.25, 0.85, 0.65, 0.03])\n",
    "w_dist_ax = plt.axes([0.25, 0.8, 0.65, 0.03])\n",
    "\n",
    "lr_sli = Slider(lr_ax, 'LR', 0.0, 1.0, valinit=0.1)\n",
    "w_dist_sli = Slider(w_dist_ax, 'w_dist', 0.0, 1000.0, valinit=600)\n",
    "dist_sli = Slider(dist_ax, 'dist', 0.0, 600.0, valinit=100)\n",
    "\n",
    "delta_t=0.1\n",
    "lr = 0.1\n",
    "w_dist = 600\n",
    "dist = 100\n",
    "\n",
    "max_time=100\n",
    "time= np.linspace(0, 100, 100)\n",
    "samples = np.random.randn(max_time)\n",
    "prob_func = lambda time, delta_t, lr, w_dist, dist : time*delta_t*lr*(1-dist/w_dist + 0.05*samples)\n",
    "\n",
    "line, = ax.plot(time, prob_func(time, delta_t, lr, w_dist, dist))\n",
    "ax.set_ylabel('Threat Probability')\n",
    "ax.set_xlabel('Time')\n",
    "ax.set_xlim([0.0, 100])\n",
    "ax.set_ylim([0.0, 1.0])\n",
    "def update(val):\n",
    "    lr = lr_sli.val\n",
    "    w_dist = w_dist_sli.val\n",
    "    dist = dist_sli.val\n",
    "    line.set_ydata(prob_func(line.get_xdata(), delta_t, lr, w_dist, dist))\n",
    "    fig.canvas.draw_idle()\n",
    "\n",
    "lr_sli.on_changed(update)\n",
    "w_dist_sli.on_changed(update)\n",
    "dist_sli.on_changed(update)\n",
    "plt.show()\n"
   ]
  },
  {
   "cell_type": "code",
   "execution_count": 4,
   "metadata": {},
   "outputs": [],
   "source": [
    "from scipy.stats import expon"
   ]
  },
  {
   "cell_type": "code",
   "execution_count": 11,
   "metadata": {},
   "outputs": [
    {
     "name": "stdout",
     "output_type": "stream",
     "text": [
      "Using matplotlib backend: Qt5Agg\n"
     ]
    }
   ],
   "source": [
    "%matplotlib\n",
    "mean = 5\n",
    "lamb = 1/mean\n",
    "exp_pdf = lambda lamb, x : lamb*np.exp(-lamb*x)\n",
    "\n",
    "fig, ax = plt.subplots()\n",
    "mean_ax = plt.axes([0.25, 0.9, 0.65, 0.03])\n",
    "mean_sli = Slider(mean_ax, 'Mean', 0.0, 20.0, valinit=5, valstep=0.5)\n",
    "\n",
    "ts = np.linspace(0, 20, 100)\n",
    "line, = ax.plot(ts, exp_pdf(lamb, ts))\n",
    "plt.xlabel('Time (secs)')\n",
    "plt.ylabel('Probability')\n",
    "\n",
    "def update(val):\n",
    "    mean = mean_sli.val\n",
    "    line.set_ydata(exp_pdf(1/mean, ts))\n",
    "    fig.canvas.draw_idle()\n",
    "\n",
    "mean_sli.on_changed(update)\n",
    "plt.show()"
   ]
  },
  {
   "cell_type": "code",
   "execution_count": 10,
   "metadata": {},
   "outputs": [
    {
     "name": "stdout",
     "output_type": "stream",
     "text": [
      "Using matplotlib backend: Qt5Agg\n"
     ]
    }
   ],
   "source": [
    "%matplotlib\n",
    "mean = 5\n",
    "lamb = 1/mean\n",
    "exp_pdf = lambda lamb, x : lamb*np.exp(-lamb*x)\n",
    "\n",
    "fig, ax = plt.subplots()\n",
    "mean_ax = plt.axes([0.25, 0.9, 0.65, 0.03])\n",
    "mean_sli = Slider(mean_ax, 'Mean', 0.0, 20.0, valinit=5, valstep=0.5)\n",
    "\n",
    "ts = np.linspace(0, 20, 1000)\n",
    "line, = ax.plot(ts, 1-exp_pdf(lamb, ts))\n",
    "plt.xlabel('Time (secs)')\n",
    "plt.ylabel('Probability')\n",
    "\n",
    "def update(val):\n",
    "    mean = mean_sli.val\n",
    "    line.set_ydata(1-exp_pdf(1/mean, ts))\n",
    "    fig.canvas.draw_idle()\n",
    "\n",
    "mean_sli.on_changed(update)\n",
    "plt.show()"
   ]
  },
  {
   "cell_type": "code",
   "execution_count": 8,
   "metadata": {},
   "outputs": [
    {
     "name": "stdout",
     "output_type": "stream",
     "text": [
      "Using matplotlib backend: Qt5Agg\n"
     ]
    },
    {
     "data": {
      "text/plain": [
       "0"
      ]
     },
     "execution_count": 8,
     "metadata": {},
     "output_type": "execute_result"
    }
   ],
   "source": [
    "%matplotlib\n",
    "from scipy.stats import multivariate_normal\n",
    "\n",
    "fig, ax = plt.subplots()\n",
    "sigma_ax = plt.axes([0.25, 0.9, 0.65, 0.03])\n",
    "\n",
    "x = np.arange(-10, 10, 0.1)\n",
    "\n",
    "pdf = multivariate_normal(0, 4)\n",
    "p = pdf.pdf(x)\n",
    "sigma_sli = Slider(sigma_ax, 'Sigma', 0.0, 20.0, valinit=5, valstep=0.5)\n",
    "\n",
    "def update(val):\n",
    "    sigma = sigma_sli.val\n",
    "    pdf = multivariate_normal(0, sigma)\n",
    "    line.set_ydata(pdf.pdf(x))\n",
    "    fig.canvas.draw_idle()\n",
    "\n",
    "line, = ax.plot(x, p)\n",
    "sigma_sli.on_changed(update)"
   ]
  },
  {
   "cell_type": "code",
   "execution_count": 20,
   "metadata": {},
   "outputs": [
    {
     "name": "stdout",
     "output_type": "stream",
     "text": [
      "Using matplotlib backend: Qt5Agg\n"
     ]
    },
    {
     "data": {
      "text/plain": [
       "0"
      ]
     },
     "execution_count": 20,
     "metadata": {},
     "output_type": "execute_result"
    }
   ],
   "source": [
    "%matplotlib\n",
    "from scipy.stats import multivariate_normal\n",
    "\n",
    "fig, ax = plt.subplots()\n",
    "w_ax = plt.axes([0.25, 0.9, 0.65, 0.03])\n",
    "\n",
    "x = np.arange(0, 1000, 0.1)\n",
    "\n",
    "sigmoid = lambda a, x :np.exp(-a*x)\n",
    "# pdf = multivariate_normal(0, 4)\n",
    "# p = pdf.pdf(x)\n",
    "w_sli = Slider(w_ax, 'w', 0.0, 0.01, valinit=0.0005, valstep=0.0001)\n",
    "\n",
    "def update(val):\n",
    "    w = w_sli.val\n",
    "#     pdf = multivariate_normal(0, sigma)\n",
    "    line.set_ydata(sigmoid(w, x))\n",
    "    fig.canvas.draw_idle()\n",
    "\n",
    "line, = ax.plot(x, sigmoid(0.0001, x))\n",
    "w_sli.on_changed(update)"
   ]
  },
  {
   "cell_type": "code",
   "execution_count": null,
   "metadata": {},
   "outputs": [],
   "source": []
  }
 ],
 "metadata": {
  "kernelspec": {
   "display_name": "Python 3",
   "language": "python",
   "name": "python3"
  },
  "language_info": {
   "codemirror_mode": {
    "name": "ipython",
    "version": 3
   },
   "file_extension": ".py",
   "mimetype": "text/x-python",
   "name": "python",
   "nbconvert_exporter": "python",
   "pygments_lexer": "ipython3",
   "version": "3.6.8"
  }
 },
 "nbformat": 4,
 "nbformat_minor": 2
}
